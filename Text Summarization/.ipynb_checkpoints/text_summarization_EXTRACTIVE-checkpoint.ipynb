{
 "cells": [
  {
   "cell_type": "code",
   "execution_count": 1,
   "metadata": {},
   "outputs": [
    {
     "name": "stderr",
     "output_type": "stream",
     "text": [
      "/home/sagar24/.local/lib/python3.6/site-packages/gensim/similarities/__init__.py:15: UserWarning: The gensim.similarities.levenshtein submodule is disabled, because the optional Levenshtein package <https://pypi.org/project/python-Levenshtein/> is unavailable. Install Levenhstein (e.g. `pip install python-Levenshtein`) to suppress this warning.\n",
      "  warnings.warn(msg)\n"
     ]
    }
   ],
   "source": [
    "import numpy as np\n",
    "import pandas as pd\n",
    "import nltk\n",
    "import re\n",
    "from nltk.tokenize import sent_tokenize\n",
    "from nltk.corpus import stopwords\n",
    "from gensim.models import Word2Vec\n",
    "from scipy import spatial"
   ]
  },
  {
   "cell_type": "code",
   "execution_count": 2,
   "metadata": {},
   "outputs": [],
   "source": [
    "text='''In July 1793, Bonaparte published a pro-republican pamphlet entitled Le souper de Beaucaire\n",
    "(Supper at Beaucaire) which gained him the support of Augustin Robespierre, younger brother of the Revolutionary \n",
    "leader Maximilien Robespierre. With the help of his fellow Corsican Antoine Christophe Saliceti, \n",
    "Bonaparte was appointed senior gunner and artillery commander of the republican forces which arrived on\n",
    "8 September at Toulon.\n",
    "He adopted a plan to capture a hill where republican guns could dominate the city's harbour and force the \n",
    "British to evacuate. The assault on the position led to the capture of the city, but during it Bonaparte\n",
    "was wounded in the thigh on 16 December. Catching the attention of the Committee of Public Safety, he was\n",
    "put in charge of the artillery of France's Army of Italy. On 22 December he was on his way to his new \n",
    "post in Nice, promoted from the rank of colonel to brigadier general at the age of 24. He devised plans for \n",
    "attacking the Kingdom of Sardinia as part of France's campaign against the First Coalition.\n",
    "The French army carried out Bonaparte's plan in the Battle of Saorgio in April 1794, and then advanced\n",
    "to seize Ormea in the mountains. From Ormea, they headed west to outflank the Austro-Sardinian positions \n",
    "around Saorge. After this campaign, Augustin Robespierre sent Bonaparte on a mission to the Republic of \n",
    "Genoa to determine that country's intentions towards France.'''"
   ]
  },
  {
   "cell_type": "code",
   "execution_count": 3,
   "metadata": {},
   "outputs": [],
   "source": [
    "sentences=sent_tokenize(text)"
   ]
  },
  {
   "cell_type": "code",
   "execution_count": 4,
   "metadata": {},
   "outputs": [],
   "source": [
    "sentences_clean=[re.sub(r'[^\\w\\s]','',sentence.lower()) for sentence in sentences]\n",
    "stop_words = stopwords.words('english')\n",
    "sentence_tokens=[[words for words in sentence.split(' ') if words not in stop_words] for sentence in sentences_clean]"
   ]
  },
  {
   "cell_type": "code",
   "execution_count": 5,
   "metadata": {},
   "outputs": [],
   "source": [
    "w2v=Word2Vec(sentence_tokens,vector_size=1,min_count=1, epochs=1000)\n",
    "sentence_embeddings=[[w2v.wv[word][0] for word in words] for words in sentence_tokens]\n",
    "max_len=max([len(tokens) for tokens in sentence_tokens])\n",
    "sentence_embeddings=[np.pad(embedding,(0,max_len-len(embedding)),'constant') for embedding in sentence_embeddings]\n"
   ]
  },
  {
   "cell_type": "code",
   "execution_count": 6,
   "metadata": {},
   "outputs": [],
   "source": [
    "similarity_matrix = np.zeros([len(sentence_tokens), len(sentence_tokens)])\n",
    "for i,row_embedding in enumerate(sentence_embeddings):\n",
    "    for j,column_embedding in enumerate(sentence_embeddings):\n",
    "        similarity_matrix[i][j]=1-spatial.distance.cosine(row_embedding,column_embedding)"
   ]
  },
  {
   "cell_type": "code",
   "execution_count": 7,
   "metadata": {},
   "outputs": [],
   "source": [
    "import networkx as nx\n",
    "nx_graph = nx.from_numpy_array(similarity_matrix)\n",
    "scores = nx.pagerank(nx_graph)"
   ]
  },
  {
   "cell_type": "code",
   "execution_count": 14,
   "metadata": {},
   "outputs": [],
   "source": [
    "top_n_sent=7\n",
    "top_sentence={sentence:scores[index] for index,sentence in enumerate(sentences)}\n",
    "top=dict(sorted(top_sentence.items(), key=lambda x: x[1], reverse=True)[:top_n_sent])"
   ]
  },
  {
   "cell_type": "code",
   "execution_count": 15,
   "metadata": {},
   "outputs": [
    {
     "name": "stdout",
     "output_type": "stream",
     "text": [
      "He adopted a plan to capture a hill where republican guns could dominate the city's harbour and force the \n",
      "British to evacuate.\n",
      "\n",
      "\n",
      "The assault on the position led to the capture of the city, but during it Bonaparte\n",
      "was wounded in the thigh on 16 December.\n",
      "\n",
      "\n",
      "Catching the attention of the Committee of Public Safety, he was\n",
      "put in charge of the artillery of France's Army of Italy.\n",
      "\n",
      "\n",
      "On 22 December he was on his way to his new \n",
      "post in Nice, promoted from the rank of colonel to brigadier general at the age of 24.\n",
      "\n",
      "\n",
      "He devised plans for \n",
      "attacking the Kingdom of Sardinia as part of France's campaign against the First Coalition.\n",
      "\n",
      "\n",
      "The French army carried out Bonaparte's plan in the Battle of Saorgio in April 1794, and then advanced\n",
      "to seize Ormea in the mountains.\n",
      "\n",
      "\n",
      "After this campaign, Augustin Robespierre sent Bonaparte on a mission to the Republic of \n",
      "Genoa to determine that country's intentions towards France.\n",
      "\n",
      "\n"
     ]
    }
   ],
   "source": [
    "for sent in sentences:\n",
    "    if sent in top.keys():\n",
    "        print(sent)\n",
    "        print('\\n')"
   ]
  },
  {
   "cell_type": "code",
   "execution_count": null,
   "metadata": {},
   "outputs": [],
   "source": []
  }
 ],
 "metadata": {
  "kernelspec": {
   "display_name": "Python 3",
   "language": "python",
   "name": "python3"
  },
  "language_info": {
   "codemirror_mode": {
    "name": "ipython",
    "version": 3
   },
   "file_extension": ".py",
   "mimetype": "text/x-python",
   "name": "python",
   "nbconvert_exporter": "python",
   "pygments_lexer": "ipython3",
   "version": "3.6.9"
  }
 },
 "nbformat": 4,
 "nbformat_minor": 2
}
