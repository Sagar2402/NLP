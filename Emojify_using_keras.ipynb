{
 "cells": [
  {
   "cell_type": "code",
   "execution_count": 18,
   "metadata": {},
   "outputs": [],
   "source": [
    "import numpy as np\n",
    "np.random.seed(0)\n",
    "from keras.models import Model\n",
    "from keras.layers import Dense, Input, Dropout, LSTM, Activation\n",
    "from keras.layers.embeddings import Embedding\n",
    "from keras.preprocessing import sequence\n",
    "from keras.initializers import glorot_uniform\n"
   ]
  },
  {
   "cell_type": "code",
   "execution_count": 19,
   "metadata": {},
   "outputs": [
    {
     "name": "stdout",
     "output_type": "stream",
     "text": [
      "work is horrible +++> 3\n",
      "10\n",
      "146\n",
      "37\n",
      "(146, 5)\n",
      "(37, 5)\n"
     ]
    }
   ],
   "source": [
    "import pandas as pd\n",
    "data= pd.read_csv(\"/home/sagar24/nlp_dataset/emojify/emojify_data.csv\",usecols=[0,1],names=['colA', 'colB'])\n",
    "\n",
    "from sklearn.model_selection import train_test_split\n",
    "from keras.utils import to_categorical\n",
    "\n",
    "text=data[\"colA\"].tolist()\n",
    "emojis=np.array(data[\"colB\"])\n",
    "x_train, x_test, y_train, y_test = train_test_split(text, to_categorical(emojis), test_size=0.2)\n",
    "\n",
    "print(\"{} +++> {}\".format(text[1],emojis[1]))\n",
    "maxLen = len(max(text, key=len).split())\n",
    "\n",
    "print(maxLen)\n",
    "print(len(x_train))\n",
    "print(len(x_test))\n",
    "print(y_train.shape)\n",
    "print(y_test.shape)\n",
    "\n",
    "x_train=np.array(x_train)\n",
    "x_test=np.array(x_test)"
   ]
  },
  {
   "cell_type": "code",
   "execution_count": 20,
   "metadata": {},
   "outputs": [],
   "source": [
    "import emoji\n",
    "emoji_dictionary = {\"0\": \"\\u2764\\uFE0F\",\n",
    "                    \"1\": \":baseball:\",\n",
    "                    \"2\": \":smile:\",\n",
    "                    \"3\": \":disappointed:\",\n",
    "                    \"4\": \":fork_and_knife:\"}\n",
    "def label_to_emoji(label):\n",
    "    return emoji.emojize(emoji_dictionary[str(label)], use_aliases=True)"
   ]
  },
  {
   "cell_type": "code",
   "execution_count": 21,
   "metadata": {},
   "outputs": [
    {
     "name": "stdout",
     "output_type": "stream",
     "text": [
      "what is your favorite baseball game ⚾\n"
     ]
    }
   ],
   "source": [
    "index = 5\n",
    "print(text[index], label_to_emoji(emojis[index]))"
   ]
  },
  {
   "cell_type": "code",
   "execution_count": 22,
   "metadata": {},
   "outputs": [],
   "source": [
    "def read_glove_vecs(glove_file):\n",
    "    with open(glove_file, 'r') as f:\n",
    "        words = set()\n",
    "        word_to_vec_map = {}\n",
    "        for line in f:\n",
    "            line = line.strip().split()\n",
    "            curr_word = line[0]\n",
    "            words.add(curr_word)\n",
    "            word_to_vec_map[curr_word] = np.array(line[1:], dtype=np.float64)\n",
    "\n",
    "        i = 1\n",
    "        words_to_index = {}\n",
    "        index_to_words = {}\n",
    "        for w in sorted(words):\n",
    "            words_to_index[w] = i\n",
    "            index_to_words[i] = w\n",
    "            i = i + 1\n",
    "    return words_to_index, index_to_words, word_to_vec_map"
   ]
  },
  {
   "cell_type": "code",
   "execution_count": 23,
   "metadata": {},
   "outputs": [],
   "source": [
    "word_to_index, index_to_word, word_to_vec_map=read_glove_vecs(\"/home/sagar24/nlp codes/8542_11957_compressed_glove.6B.50d.txt/glove.6B.50d.txt\")"
   ]
  },
  {
   "cell_type": "code",
   "execution_count": 24,
   "metadata": {},
   "outputs": [
    {
     "name": "stdout",
     "output_type": "stream",
     "text": [
      "the index of cucumber in the vocabulary is 113317\n",
      "the 289846th word in the vocabulary is potatos\n"
     ]
    }
   ],
   "source": [
    "word = \"cucumber\"\n",
    "index = 289846\n",
    "print(\"the index of\", word, \"in the vocabulary is\", word_to_index[word])\n",
    "print(\"the\", str(index) + \"th word in the vocabulary is\", index_to_word[index])"
   ]
  },
  {
   "cell_type": "code",
   "execution_count": null,
   "metadata": {},
   "outputs": [],
   "source": []
  },
  {
   "cell_type": "code",
   "execution_count": null,
   "metadata": {},
   "outputs": [],
   "source": []
  },
  {
   "cell_type": "code",
   "execution_count": 25,
   "metadata": {},
   "outputs": [],
   "source": [
    "# GRADED FUNCTION: sentences_to_indices\n",
    "\n",
    "def sentences_to_indices(X, word_to_index, max_len):\n",
    "    \"\"\"\n",
    "    Converts an array of sentences (strings) into an array of indices corresponding to words in the sentences.\n",
    "    The output shape should be such that it can be given to `Embedding()` (described in Figure 4). \n",
    "    \n",
    "    Arguments:\n",
    "    X -- array of sentences (strings), of shape (m, 1)\n",
    "    word_to_index -- a dictionary containing the each word mapped to its index\n",
    "    max_len -- maximum number of words in a sentence. You can assume every sentence in X is no longer than this. \n",
    "    \n",
    "    Returns:\n",
    "    X_indices -- array of indices corresponding to words in the sentences from X, of shape (m, max_len)\n",
    "    \"\"\"\n",
    "    \n",
    "    m = X.shape[0]                                   # number of training examples\n",
    "    \n",
    "    ### START CODE HERE ###\n",
    "    # Initialize X_indices as a numpy matrix of zeros and the correct shape (≈ 1 line)\n",
    "    X_indices = np.zeros((m, max_len))\n",
    "    \n",
    "    for i in range(m):                               # loop over training examples\n",
    "        \n",
    "        # Convert the ith training sentence in lower case and split is into words. You should get a list of words.\n",
    "        sentence_words = X[i].lower().split()\n",
    "        \n",
    "        # Initialize j to 0\n",
    "        j = 0\n",
    "        \n",
    "        # Loop over the words of sentence_words\n",
    "        for w in sentence_words:\n",
    "            # Set the (i,j)th entry of X_indices to the index of the correct word.\n",
    "            X_indices[i, j] = word_to_index[w]\n",
    "            # Increment j to j + 1\n",
    "            j = j + 1\n",
    "            \n",
    "    ### END CODE HERE ###\n",
    "    \n",
    "    return X_indices"
   ]
  },
  {
   "cell_type": "code",
   "execution_count": 26,
   "metadata": {},
   "outputs": [],
   "source": [
    "# GRADED FUNCTION: pretrained_embedding_layer\n",
    "\n",
    "def pretrained_embedding_layer(word_to_vec_map, word_to_index):\n",
    "    \"\"\"\n",
    "    Creates a Keras Embedding() layer and loads in pre-trained GloVe 50-dimensional vectors.\n",
    "    \n",
    "    Arguments:\n",
    "    word_to_vec_map -- dictionary mapping words to their GloVe vector representation.\n",
    "    word_to_index -- dictionary mapping from words to their indices in the vocabulary (400,001 words)\n",
    "\n",
    "    Returns:\n",
    "    embedding_layer -- pretrained layer Keras instance\n",
    "    \"\"\"\n",
    "    \n",
    "    vocab_len = len(word_to_index) + 1                  # adding 1 to fit Keras embedding (requirement)\n",
    "    emb_dim = word_to_vec_map[\"cucumber\"].shape[0]      # define dimensionality of your GloVe word vectors (= 50)\n",
    "    \n",
    "    ### START CODE HERE ###\n",
    "    # Initialize the embedding matrix as a numpy array of zeros of shape (vocab_len, dimensions of word vectors = emb_dim)\n",
    "    emb_matrix = np.zeros((vocab_len, emb_dim))\n",
    "    \n",
    "    # Set each row \"index\" of the embedding matrix to be the word vector representation of the \"index\"th word of the vocabulary\n",
    "    for word, index in word_to_index.items():\n",
    "        emb_matrix[index, :] = word_to_vec_map[word]\n",
    "\n",
    "    # Define Keras embedding layer with the correct output/input sizes, make it trainable. Use Embedding(...). Make sure to set trainable=False. \n",
    "    embedding_layer = Embedding(vocab_len, emb_dim, trainable = False)\n",
    "    ### END CODE HERE ###\n",
    "\n",
    "    # Build the embedding layer, it is required before setting the weights of the embedding layer. Do not modify the \"None\".\n",
    "    embedding_layer.build((None,))\n",
    "    \n",
    "    # Set the weights of the embedding layer to the embedding matrix. Your layer is now pretrained.\n",
    "    embedding_layer.set_weights([emb_matrix])\n",
    "    \n",
    "    return embedding_layer"
   ]
  },
  {
   "cell_type": "code",
   "execution_count": 27,
   "metadata": {},
   "outputs": [],
   "source": [
    "# GRADED FUNCTION: Emojify_V2\n",
    "\n",
    "def Emojify_V2(input_shape, word_to_vec_map, word_to_index):\n",
    "    \"\"\"\n",
    "    Function creating the Emojify-v2 model's graph.\n",
    "    \n",
    "    Arguments:\n",
    "    input_shape -- shape of the input, usually (max_len,)\n",
    "    word_to_vec_map -- dictionary mapping every word in a vocabulary into its 50-dimensional vector representation\n",
    "    word_to_index -- dictionary mapping from words to their indices in the vocabulary (400,001 words)\n",
    "\n",
    "    Returns:\n",
    "    model -- a model instance in Keras\n",
    "    \"\"\"\n",
    "    \n",
    "    ### START CODE HERE ###\n",
    "    # Define sentence_indices as the input of the graph, it should be of shape input_shape and dtype 'int32' (as it contains indices).\n",
    "    sentence_indices = Input(shape = input_shape, dtype = 'int32')\n",
    "    \n",
    "    # Create the embedding layer pretrained with GloVe Vectors (≈1 line)\n",
    "    embedding_layer =  pretrained_embedding_layer(word_to_vec_map, word_to_index)\n",
    "    print(embedding_layer.shape)\n",
    "    # Propagate sentence_indices through your embedding layer, you get back the embeddings\n",
    "    embeddings = embedding_layer(sentence_indices)\n",
    "    \n",
    "    # Propagate the embeddings through an LSTM layer with 128-dimensional hidden state\n",
    "    # Be careful, the returned output should be a batch of sequences.\n",
    "    X = LSTM(128, return_sequences=True)(embeddings)\n",
    "    # Add dropout with a probability of 0.5\n",
    "    X = Dropout(rate =  0.5)(X)\n",
    "    # Propagate X trough another LSTM layer with 128-dimensional hidden state\n",
    "    # Be careful, the returned output should be a single hidden state, not a batch of sequences.\n",
    "    X = LSTM(128, return_sequences=False)(X)\n",
    "    # Add dropout with a probability of 0.5\n",
    "    X = Dropout(rate =  0.5)(X)\n",
    "    # Propagate X through a Dense layer with softmax activation to get back a batch of 5-dimensional vectors.\n",
    "    X = Dense(units = 5, activation = 'softmax')(X)\n",
    "    # Add a softmax activation\n",
    "    X = Activation('softmax')(X)\n",
    "    \n",
    "    # Create Model instance which converts sentence_indices into X.\n",
    "    model = Model(sentence_indices,X)\n",
    "    \n",
    "    ### END CODE HERE ###\n",
    "    \n",
    "    return model"
   ]
  },
  {
   "cell_type": "code",
   "execution_count": 28,
   "metadata": {},
   "outputs": [
    {
     "ename": "AttributeError",
     "evalue": "'Embedding' object has no attribute 'shape'",
     "output_type": "error",
     "traceback": [
      "\u001b[0;31m---------------------------------------------------------------------------\u001b[0m",
      "\u001b[0;31mAttributeError\u001b[0m                            Traceback (most recent call last)",
      "\u001b[0;32m<ipython-input-28-305752211db0>\u001b[0m in \u001b[0;36m<module>\u001b[0;34m\u001b[0m\n\u001b[0;32m----> 1\u001b[0;31m \u001b[0mmodel\u001b[0m \u001b[0;34m=\u001b[0m \u001b[0mEmojify_V2\u001b[0m\u001b[0;34m(\u001b[0m\u001b[0;34m(\u001b[0m\u001b[0mmaxLen\u001b[0m\u001b[0;34m,\u001b[0m\u001b[0;34m)\u001b[0m\u001b[0;34m,\u001b[0m \u001b[0mword_to_vec_map\u001b[0m\u001b[0;34m,\u001b[0m \u001b[0mword_to_index\u001b[0m\u001b[0;34m)\u001b[0m\u001b[0;34m\u001b[0m\u001b[0;34m\u001b[0m\u001b[0m\n\u001b[0m\u001b[1;32m      2\u001b[0m \u001b[0mmodel\u001b[0m\u001b[0;34m.\u001b[0m\u001b[0msummary\u001b[0m\u001b[0;34m(\u001b[0m\u001b[0;34m)\u001b[0m\u001b[0;34m\u001b[0m\u001b[0;34m\u001b[0m\u001b[0m\n",
      "\u001b[0;32m<ipython-input-27-9f9b95d3f025>\u001b[0m in \u001b[0;36mEmojify_V2\u001b[0;34m(input_shape, word_to_vec_map, word_to_index)\u001b[0m\n\u001b[1;32m     20\u001b[0m     \u001b[0;31m# Create the embedding layer pretrained with GloVe Vectors (≈1 line)\u001b[0m\u001b[0;34m\u001b[0m\u001b[0;34m\u001b[0m\u001b[0;34m\u001b[0m\u001b[0m\n\u001b[1;32m     21\u001b[0m     \u001b[0membedding_layer\u001b[0m \u001b[0;34m=\u001b[0m  \u001b[0mpretrained_embedding_layer\u001b[0m\u001b[0;34m(\u001b[0m\u001b[0mword_to_vec_map\u001b[0m\u001b[0;34m,\u001b[0m \u001b[0mword_to_index\u001b[0m\u001b[0;34m)\u001b[0m\u001b[0;34m\u001b[0m\u001b[0;34m\u001b[0m\u001b[0m\n\u001b[0;32m---> 22\u001b[0;31m     \u001b[0mprint\u001b[0m\u001b[0;34m(\u001b[0m\u001b[0membedding_layer\u001b[0m\u001b[0;34m.\u001b[0m\u001b[0mshape\u001b[0m\u001b[0;34m)\u001b[0m\u001b[0;34m\u001b[0m\u001b[0;34m\u001b[0m\u001b[0m\n\u001b[0m\u001b[1;32m     23\u001b[0m     \u001b[0;31m# Propagate sentence_indices through your embedding layer, you get back the embeddings\u001b[0m\u001b[0;34m\u001b[0m\u001b[0;34m\u001b[0m\u001b[0;34m\u001b[0m\u001b[0m\n\u001b[1;32m     24\u001b[0m     \u001b[0membeddings\u001b[0m \u001b[0;34m=\u001b[0m \u001b[0membedding_layer\u001b[0m\u001b[0;34m(\u001b[0m\u001b[0msentence_indices\u001b[0m\u001b[0;34m)\u001b[0m\u001b[0;34m\u001b[0m\u001b[0;34m\u001b[0m\u001b[0m\n",
      "\u001b[0;31mAttributeError\u001b[0m: 'Embedding' object has no attribute 'shape'"
     ]
    }
   ],
   "source": [
    "model = Emojify_V2((maxLen,), word_to_vec_map, word_to_index)\n",
    "model.summary()"
   ]
  },
  {
   "cell_type": "code",
   "execution_count": 13,
   "metadata": {},
   "outputs": [],
   "source": [
    "model.compile(loss='categorical_crossentropy', optimizer='adam', metrics=['accuracy'])"
   ]
  },
  {
   "cell_type": "code",
   "execution_count": 14,
   "metadata": {},
   "outputs": [],
   "source": [
    "X_train_indices = sentences_to_indices(x_train, word_to_index, maxLen)\n"
   ]
  },
  {
   "cell_type": "code",
   "execution_count": 15,
   "metadata": {},
   "outputs": [
    {
     "name": "stdout",
     "output_type": "stream",
     "text": [
      "Epoch 1/70\n",
      "146/146 [==============================] - 1s 10ms/step - loss: 1.6009 - accuracy: 0.2808\n",
      "Epoch 2/70\n",
      "146/146 [==============================] - 0s 692us/step - loss: 1.5684 - accuracy: 0.3219\n",
      "Epoch 3/70\n",
      "146/146 [==============================] - 0s 718us/step - loss: 1.5411 - accuracy: 0.4110\n",
      "Epoch 4/70\n",
      "146/146 [==============================] - 0s 786us/step - loss: 1.5214 - accuracy: 0.3973\n",
      "Epoch 5/70\n",
      "146/146 [==============================] - 0s 716us/step - loss: 1.4946 - accuracy: 0.4041\n",
      "Epoch 6/70\n",
      "146/146 [==============================] - 0s 751us/step - loss: 1.4766 - accuracy: 0.4521\n",
      "Epoch 7/70\n",
      "146/146 [==============================] - 0s 780us/step - loss: 1.4505 - accuracy: 0.4589\n",
      "Epoch 8/70\n",
      "146/146 [==============================] - 0s 805us/step - loss: 1.4172 - accuracy: 0.5000\n",
      "Epoch 9/70\n",
      "146/146 [==============================] - 0s 768us/step - loss: 1.4176 - accuracy: 0.4726\n",
      "Epoch 10/70\n",
      "146/146 [==============================] - 0s 741us/step - loss: 1.3654 - accuracy: 0.5411\n",
      "Epoch 11/70\n",
      "146/146 [==============================] - 0s 768us/step - loss: 1.3877 - accuracy: 0.5137\n",
      "Epoch 12/70\n",
      "146/146 [==============================] - 0s 782us/step - loss: 1.3673 - accuracy: 0.5274\n",
      "Epoch 13/70\n",
      "146/146 [==============================] - 0s 839us/step - loss: 1.3406 - accuracy: 0.5685\n",
      "Epoch 14/70\n",
      "146/146 [==============================] - 0s 752us/step - loss: 1.3150 - accuracy: 0.6027\n",
      "Epoch 15/70\n",
      "146/146 [==============================] - 0s 780us/step - loss: 1.2956 - accuracy: 0.6096\n",
      "Epoch 16/70\n",
      "146/146 [==============================] - 0s 789us/step - loss: 1.2610 - accuracy: 0.6644\n",
      "Epoch 17/70\n",
      "146/146 [==============================] - 0s 797us/step - loss: 1.2165 - accuracy: 0.7329\n",
      "Epoch 18/70\n",
      "146/146 [==============================] - 0s 793us/step - loss: 1.1969 - accuracy: 0.7192\n",
      "Epoch 19/70\n",
      "146/146 [==============================] - 0s 767us/step - loss: 1.1583 - accuracy: 0.7603\n",
      "Epoch 20/70\n",
      "146/146 [==============================] - 0s 785us/step - loss: 1.1423 - accuracy: 0.7603\n",
      "Epoch 21/70\n",
      "146/146 [==============================] - 0s 793us/step - loss: 1.1023 - accuracy: 0.8151\n",
      "Epoch 22/70\n",
      "146/146 [==============================] - 0s 767us/step - loss: 1.1008 - accuracy: 0.8082\n",
      "Epoch 23/70\n",
      "146/146 [==============================] - 0s 771us/step - loss: 1.1222 - accuracy: 0.7945\n",
      "Epoch 24/70\n",
      "146/146 [==============================] - 0s 761us/step - loss: 1.0446 - accuracy: 0.8630\n",
      "Epoch 25/70\n",
      "146/146 [==============================] - 0s 746us/step - loss: 1.0330 - accuracy: 0.8904\n",
      "Epoch 26/70\n",
      "146/146 [==============================] - 0s 754us/step - loss: 1.0005 - accuracy: 0.9178\n",
      "Epoch 27/70\n",
      "146/146 [==============================] - 0s 764us/step - loss: 1.0133 - accuracy: 0.9041\n",
      "Epoch 28/70\n",
      "146/146 [==============================] - 0s 736us/step - loss: 1.0022 - accuracy: 0.9110\n",
      "Epoch 29/70\n",
      "146/146 [==============================] - 0s 782us/step - loss: 1.0034 - accuracy: 0.9247\n",
      "Epoch 30/70\n",
      "146/146 [==============================] - 0s 791us/step - loss: 1.0346 - accuracy: 0.8767\n",
      "Epoch 31/70\n",
      "146/146 [==============================] - 0s 768us/step - loss: 1.0291 - accuracy: 0.8836\n",
      "Epoch 32/70\n",
      "146/146 [==============================] - 0s 769us/step - loss: 0.9936 - accuracy: 0.9178\n",
      "Epoch 33/70\n",
      "146/146 [==============================] - 0s 771us/step - loss: 1.0166 - accuracy: 0.8973\n",
      "Epoch 34/70\n",
      "146/146 [==============================] - 0s 781us/step - loss: 0.9879 - accuracy: 0.9178\n",
      "Epoch 35/70\n",
      "146/146 [==============================] - 0s 679us/step - loss: 0.9893 - accuracy: 0.9110\n",
      "Epoch 36/70\n",
      "146/146 [==============================] - 0s 811us/step - loss: 0.9740 - accuracy: 0.9315\n",
      "Epoch 37/70\n",
      "146/146 [==============================] - 0s 787us/step - loss: 0.9680 - accuracy: 0.9384\n",
      "Epoch 38/70\n",
      "146/146 [==============================] - 0s 782us/step - loss: 0.9739 - accuracy: 0.9315\n",
      "Epoch 39/70\n",
      "146/146 [==============================] - 0s 804us/step - loss: 0.9809 - accuracy: 0.9247\n",
      "Epoch 40/70\n",
      "146/146 [==============================] - 0s 744us/step - loss: 0.9725 - accuracy: 0.9315\n",
      "Epoch 41/70\n",
      "146/146 [==============================] - 0s 761us/step - loss: 0.9822 - accuracy: 0.9247\n",
      "Epoch 42/70\n",
      "146/146 [==============================] - 0s 728us/step - loss: 0.9759 - accuracy: 0.9315\n",
      "Epoch 43/70\n",
      "146/146 [==============================] - 0s 769us/step - loss: 0.9503 - accuracy: 0.9658\n",
      "Epoch 44/70\n",
      "146/146 [==============================] - 0s 741us/step - loss: 0.9804 - accuracy: 0.9178\n",
      "Epoch 45/70\n",
      "146/146 [==============================] - 0s 810us/step - loss: 0.9864 - accuracy: 0.9178\n",
      "Epoch 46/70\n",
      "146/146 [==============================] - 0s 739us/step - loss: 0.9995 - accuracy: 0.9110\n",
      "Epoch 47/70\n",
      "146/146 [==============================] - 0s 803us/step - loss: 0.9572 - accuracy: 0.9521\n",
      "Epoch 48/70\n",
      "146/146 [==============================] - 0s 738us/step - loss: 0.9432 - accuracy: 0.9658\n",
      "Epoch 49/70\n",
      "146/146 [==============================] - 0s 730us/step - loss: 0.9948 - accuracy: 0.9178\n",
      "Epoch 50/70\n",
      "146/146 [==============================] - 0s 743us/step - loss: 0.9563 - accuracy: 0.9521\n",
      "Epoch 51/70\n",
      "146/146 [==============================] - 0s 731us/step - loss: 0.9692 - accuracy: 0.9384\n",
      "Epoch 52/70\n",
      "146/146 [==============================] - 0s 750us/step - loss: 0.9655 - accuracy: 0.9452\n",
      "Epoch 53/70\n",
      "146/146 [==============================] - 0s 751us/step - loss: 0.9769 - accuracy: 0.9315\n",
      "Epoch 54/70\n",
      "146/146 [==============================] - 0s 722us/step - loss: 0.9544 - accuracy: 0.9452\n",
      "Epoch 55/70\n",
      "146/146 [==============================] - 0s 743us/step - loss: 0.9751 - accuracy: 0.9315\n",
      "Epoch 56/70\n",
      "146/146 [==============================] - 0s 713us/step - loss: 0.9455 - accuracy: 0.9589\n",
      "Epoch 57/70\n",
      "146/146 [==============================] - 0s 795us/step - loss: 0.9463 - accuracy: 0.9589\n",
      "Epoch 58/70\n",
      "146/146 [==============================] - 0s 750us/step - loss: 0.9481 - accuracy: 0.9589\n",
      "Epoch 59/70\n",
      "146/146 [==============================] - 0s 706us/step - loss: 0.9485 - accuracy: 0.9521\n",
      "Epoch 60/70\n",
      "146/146 [==============================] - 0s 786us/step - loss: 0.9355 - accuracy: 0.9726\n",
      "Epoch 61/70\n",
      "146/146 [==============================] - 0s 751us/step - loss: 0.9383 - accuracy: 0.9658\n",
      "Epoch 62/70\n",
      "146/146 [==============================] - 0s 681us/step - loss: 0.9371 - accuracy: 0.9658\n",
      "Epoch 63/70\n",
      "146/146 [==============================] - 0s 693us/step - loss: 0.9332 - accuracy: 0.9726\n",
      "Epoch 64/70\n",
      "146/146 [==============================] - 0s 773us/step - loss: 0.9381 - accuracy: 0.9726\n",
      "Epoch 65/70\n",
      "146/146 [==============================] - 0s 747us/step - loss: 0.9330 - accuracy: 0.9726\n",
      "Epoch 66/70\n",
      "146/146 [==============================] - 0s 736us/step - loss: 0.9410 - accuracy: 0.9658\n",
      "Epoch 67/70\n",
      "146/146 [==============================] - 0s 708us/step - loss: 0.9338 - accuracy: 0.9726\n",
      "Epoch 68/70\n",
      "146/146 [==============================] - 0s 720us/step - loss: 0.9490 - accuracy: 0.9521\n",
      "Epoch 69/70\n",
      "146/146 [==============================] - 0s 677us/step - loss: 0.9537 - accuracy: 0.9589\n",
      "Epoch 70/70\n",
      "146/146 [==============================] - 0s 704us/step - loss: 0.9698 - accuracy: 0.9315\n"
     ]
    },
    {
     "data": {
      "text/plain": [
       "<keras.callbacks.callbacks.History at 0x7fed96253438>"
      ]
     },
     "execution_count": 15,
     "metadata": {},
     "output_type": "execute_result"
    }
   ],
   "source": [
    "model.fit(X_train_indices, y_train, epochs = 70, batch_size = 32, shuffle=True)"
   ]
  },
  {
   "cell_type": "code",
   "execution_count": 17,
   "metadata": {},
   "outputs": [
    {
     "name": "stdout",
     "output_type": "stream",
     "text": [
      "37/37 [==============================] - 0s 405us/step\n",
      "Loss =  1.3116702131322913\n",
      "Test accuracy =  0.5675675868988037\n"
     ]
    }
   ],
   "source": [
    "X_test_indices = sentences_to_indices(x_test, word_to_index, max_len = maxLen)\n",
    "\n",
    "loss, acc = model.evaluate(X_test_indices, y_test)\n",
    "print(\"Loss = \",loss)\n",
    "print(\"Test accuracy = \", acc)"
   ]
  },
  {
   "cell_type": "code",
   "execution_count": null,
   "metadata": {},
   "outputs": [],
   "source": []
  }
 ],
 "metadata": {
  "kernelspec": {
   "display_name": "Python 3",
   "language": "python",
   "name": "python3"
  },
  "language_info": {
   "codemirror_mode": {
    "name": "ipython",
    "version": 3
   },
   "file_extension": ".py",
   "mimetype": "text/x-python",
   "name": "python",
   "nbconvert_exporter": "python",
   "pygments_lexer": "ipython3",
   "version": "3.6.9"
  }
 },
 "nbformat": 4,
 "nbformat_minor": 2
}
